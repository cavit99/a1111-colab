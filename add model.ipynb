from google.colab import drive
drive.mount('/content/drive')

!apt-get -y install -qq aria2

model_url = "https://huggingface.co/ckpt/anything-v4.5-vae-swapped/resolve/main/anything-v4.5-vae-swapped.safetensors" #@param {type:"string"}
model_name = "anything-v4.5-vae-swapped.safetensors" #@param {type:"string"}
model_url = f"\"{model_url}\""
!aria2c --console-log-level=error -c -x 16 -s 16 -k 1M {model_url} -d /content/drive/MyDrive/stable-diffusion-webui-colab/stable-diffusion-webui/models/Stable-diffusion -o {model_name}
